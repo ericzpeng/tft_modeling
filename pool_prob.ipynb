{
 "cells": [
  {
   "cell_type": "markdown",
   "id": "b81a1dcd-4412-433f-aac5-5f76ceb2bd7b",
   "metadata": {},
   "source": [
    "## Imports"
   ]
  },
  {
   "cell_type": "code",
   "execution_count": 1,
   "id": "d2f57070-b59a-4a60-beee-ab8d7b429e21",
   "metadata": {},
   "outputs": [],
   "source": [
    "import math\n",
    "import itertools\n",
    "import numpy as np\n",
    "import matplotlib.pyplot as plt"
   ]
  },
  {
   "cell_type": "markdown",
   "id": "17816d03-7c41-4b95-a0b4-5812f580cf0f",
   "metadata": {},
   "source": [
    "## Helper\n"
   ]
  },
  {
   "cell_type": "code",
   "execution_count": 2,
   "id": "abddc5db-7dcf-4cb4-b6c6-ab239937e8f4",
   "metadata": {},
   "outputs": [],
   "source": [
    "def nCr(n,r):\n",
    "    f = math.factorial\n",
    "    return f(n) // f(r) // f(n-r)"
   ]
  },
  {
   "cell_type": "code",
   "execution_count": 6,
   "id": "301f6de5-2a20-45b5-a4bd-990747b5d960",
   "metadata": {},
   "outputs": [],
   "source": [
    "def create_perms(hits):\n",
    "\n",
    "    if hits < 1:\n",
    "        return [[]]\n",
    "    lst = []\n",
    "    maxx = min(hits+1, 6)\n",
    "    for i in range(1, maxx):\n",
    "        for result in create_perms(hits-i):\n",
    "            lst.append([i] + result)\n",
    "    return lst\n",
    "\n",
    "def add_zero(lst, num_zero):\n",
    "    if lst == []:\n",
    "        return [[0]*num_zero]\n",
    "    if num_zero == 0:\n",
    "        return [lst]\n",
    "    output = []\n",
    "    for result in add_zero(lst, num_zero-1):\n",
    "        output.append([0] + result)\n",
    "    if len(lst) == 1:\n",
    "        temp_lst = []\n",
    "    else:\n",
    "        temp_lst = lst[1:]\n",
    "    for result in add_zero(temp_lst, num_zero):\n",
    "        output.append([lst[0]] + result)\n",
    "    return output\n",
    "\n",
    "def filter_perms(lsts, rolls):\n",
    "    final_lsts = []\n",
    "    for lst in lsts:\n",
    "        if len(lst) > rolls:\n",
    "            continue\n",
    "        elif len(lst) < rolls:\n",
    "            final_lsts.extend(add_zero(lst,  rolls-len(lst)))\n",
    "            pass\n",
    "        else:\n",
    "            final_lsts.append(lst)\n",
    "    return final_lsts"
   ]
  },
  {
   "cell_type": "markdown",
   "id": "a6de839b-6cee-4022-a50b-47778d0bc76e",
   "metadata": {},
   "source": [
    "## Pool probabilities"
   ]
  },
  {
   "cell_type": "code",
   "execution_count": 7,
   "id": "f871a852-8425-42cf-8f5a-4d119303f0ee",
   "metadata": {},
   "outputs": [],
   "source": [
    "def stage_pool_prob(tier_prob, k, n, rolls, hits):\n",
    "    perms = create_perms(hits)\n",
    "    filtered_perms = filter_perms(perms, rolls)\n",
    "    total_prob = 0\n",
    "    for perm in filtered_perms:\n",
    "        perm_prob = stage_prob(tier_prob, k, n, perm)\n",
    "        total_prob += perm_prob\n",
    "    return total_prob\n",
    "    \n",
    "\n",
    "def stage_prob(tier_prob, k, n, perm):\n",
    "    total_prob = 1\n",
    "    k_i = k\n",
    "    n_i = n\n",
    "    for hits in perm:\n",
    "        p = tier_prob * k_i / n_i\n",
    "        total_prob *= nCr(5,hits)*(p)**hits*(1-p)**(5-hits)\n",
    "        k_i -= hits\n",
    "        n_i -= hits\n",
    "    return total_prob"
   ]
  },
  {
   "cell_type": "code",
   "execution_count": 8,
   "id": "8625fd2a-3986-4fab-a2ac-7b87d53bb1ec",
   "metadata": {},
   "outputs": [
    {
     "data": {
      "text/plain": [
       "0.3128115244551543"
      ]
     },
     "execution_count": 8,
     "metadata": {},
     "output_type": "execute_result"
    }
   ],
   "source": [
    "stage_pool_prob(0.25, 10, 100, 15, 1)"
   ]
  },
  {
   "cell_type": "markdown",
   "id": "d8acf58e-9b37-4ed7-9317-1b8d2ad9f79b",
   "metadata": {},
   "source": [
    "## Deprecated"
   ]
  },
  {
   "cell_type": "code",
   "execution_count": 9,
   "id": "0442c3ba-5ea3-40fe-a584-a2f58a8d0880",
   "metadata": {},
   "outputs": [],
   "source": [
    "def pool_prob(tier_prob, k, n, rolls, count):\n",
    "    lst = list(range(1,rolls*5+1))\n",
    "    perms = list(itertools.permutations(lst, count))\n",
    "    total_prob = 0\n",
    "    for perm in perms:\n",
    "#         print(perm)\n",
    "        perm_prob = prob(tier_prob, k, n, rolls, count, perm)\n",
    "#         print(\"perm prob: \",perm_prob)\n",
    "        total_prob += perm_prob\n",
    "        \n",
    "    return total_prob\n",
    "\n",
    "def prob(tier_prob, k, n, rolls, count, perm):\n",
    "    counter = 1\n",
    "    total_prob = 1\n",
    "    k_i = k\n",
    "    n_i = n\n",
    "    while counter <= rolls*5:\n",
    "        hits = 0\n",
    "        for ind in range(5):\n",
    "            if counter in perm:\n",
    "                #print(k_i / n_i)\n",
    "                total_prob *= tier_prob*k_i / n_i\n",
    "                hits += 1\n",
    "            else:\n",
    "                #print((n_i - k_i) / n_i)\n",
    "                total_prob *= 1-tier_prob*k_i / n_i #(n_i - k_i) / n_i\n",
    "            counter += 1\n",
    "        k_i -= hits\n",
    "        n_i -= hits\n",
    "    return total_prob"
   ]
  },
  {
   "cell_type": "code",
   "execution_count": null,
   "id": "cf248275-cb20-4a0d-925c-0107fca82d45",
   "metadata": {},
   "outputs": [],
   "source": [
    "# def perms(hits, rolls):\n",
    "#     if rolls < 1:\n",
    "#         return []\n",
    "#     if rolls == 1:\n",
    "#         return [[hits]]\n",
    "#     lst = []\n",
    "\n",
    "#     for i in range(1, 6):\n",
    "#         for result in perms(hits-i,rolls-1):\n",
    "#             lst.append([i] + result)\n",
    "#     return lst"
   ]
  }
 ],
 "metadata": {
  "kernelspec": {
   "display_name": "Python 3 (ipykernel)",
   "language": "python",
   "name": "python3"
  },
  "language_info": {
   "codemirror_mode": {
    "name": "ipython",
    "version": 3
   },
   "file_extension": ".py",
   "mimetype": "text/x-python",
   "name": "python",
   "nbconvert_exporter": "python",
   "pygments_lexer": "ipython3",
   "version": "3.7.11"
  }
 },
 "nbformat": 4,
 "nbformat_minor": 5
}
