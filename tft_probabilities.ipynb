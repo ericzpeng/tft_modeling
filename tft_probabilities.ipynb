{
 "cells": [
  {
   "cell_type": "code",
   "execution_count": 128,
   "id": "7251bda5-210f-44be-8feb-220d36a62812",
   "metadata": {},
   "outputs": [],
   "source": [
    "import numpy as np\n",
    "import pandas as pd\n",
    "from scipy.stats import hypergeom\n",
    "import os"
   ]
  },
  {
   "cell_type": "code",
   "execution_count": 74,
   "id": "b759c762-837e-41f1-b942-407f11f2aba6",
   "metadata": {},
   "outputs": [],
   "source": [
    "np.random.seed(1234)\n",
    "\n",
    "level_tier_prob = {1:{1:1, 2:0, 3:0, 4:0, 5:0},\n",
    "                   2:{1:1, 2:0, 3:0, 4:0, 5:0},\n",
    "                   3:{1:0.75, 2:0.25, 3:0, 4:0, 5:0},\n",
    "                   4:{1:0.55, 2:0.3, 3:0.15, 4:0, 5:0},\n",
    "                   5:{1:0.45, 2:0.33, 3:0.2, 4:0.02, 5:0},\n",
    "                   6:{1:0.25, 2:0.4, 3:0.3, 4:0.05, 5:0},\n",
    "                   7:{1:0.19, 2:0.3, 3:0.35, 4:0.15, 5:0.01},\n",
    "                   8:{1:0.16, 2:0.2, 3:0.35, 4:0.25, 5:0.04},\n",
    "                   9:{1:0.09, 2:0.15, 3:0.3, 4:0.3, 5:0.16},\n",
    "                   10:{1:0.05, 2:0.1, 3:0.2, 4:0.4, 5:0.25}}\n",
    "\n",
    "units_per_tier =  {1:29,\n",
    "                   2:22,\n",
    "                   3:18,\n",
    "                   4:12,\n",
    "                   5:10}\n",
    "\n",
    "champion_tier_cost = pd.read_csv(os.getcwd() + '\\\\champion_tier_cost.csv')"
   ]
  },
  {
   "cell_type": "code",
   "execution_count": 75,
   "id": "ba4a26a0-1d48-403e-aa0c-4abacb1bb517",
   "metadata": {},
   "outputs": [],
   "source": [
    "class Player:\n",
    "    def __init__(self, econ, health, level):\n",
    "        self.econ = econ\n",
    "        self.health = health\n",
    "        self.level = level\n",
    "    \n",
    "    def update_econ():\n",
    "        pass\n",
    "        \n",
    "    def update_health():\n",
    "        pass\n",
    "    \n",
    "    def update_level():\n",
    "        pass\n",
    "    \n",
    "class Champion:\n",
    "    def __init__(self, name, tier, cost):\n",
    "        self.name = name\n",
    "        self.tier = tier\n",
    "        self.cost = cost\n",
    "        self.pool = units_per_tier[self.tier]\n",
    "    \n",
    "    def buy(self):\n",
    "        if self.pool == 0:\n",
    "            print(\"None left in pool\")\n",
    "        else:\n",
    "            self.pool -= 1\n",
    "            print(\"There are \" + str(self.pool) + \" \" + self.name + \" units left\")\n",
    "    \n",
    "    def sell(self):\n",
    "        if self.pool < units_per_tier[self.tier]:\n",
    "            self.pool += 1\n",
    "            print(\"There are \" + str(self.pool) + \" \" + self.name + \" units left\")\n",
    "        else:\n",
    "            print(\"Cannot sell unit since you do not have it\")"
   ]
  },
  {
   "cell_type": "code",
   "execution_count": 76,
   "id": "c4b01faa-2ebe-4b2b-b97e-65d31d4e584e",
   "metadata": {},
   "outputs": [],
   "source": [
    "champions_lst = {row[0]: Champion(row[0], row[1], row[2]) for row in zip(champion_tier_cost['champion'], champion_tier_cost['tier'], champion_tier_cost['cost'])}"
   ]
  },
  {
   "cell_type": "code",
   "execution_count": 178,
   "id": "607e818b-0212-4d0b-a7d8-87164af3c541",
   "metadata": {},
   "outputs": [],
   "source": [
    "def probability_hit_champion(player, champion, champions_lst, num_to_hit):\n",
    "    same_tier_df = champion_tier_cost[champion_tier_cost['tier'] == champion.tier]\n",
    "    #Multiply number of rolls by 5 since we have 5 champions per roll\n",
    "    num_of_rolls = ((player.econ - champion.cost * num_to_hit) // 2)\n",
    "    print('Number of Rolls Avaliable: ' + str(num_of_rolls))\n",
    "    if num_of_rolls <= 0:\n",
    "        return 0\n",
    "    total = sum([champions[champion].pool for champion in same_tier_df['champion']])\n",
    "    \n",
    "    #Hypergeometric Distribution\n",
    "    num_of_events = num_of_rolls * 5\n",
    "    prob_of_hit = 1 - hypergeom.cdf(num_to_hit - 1,total, champion.pool, num_of_events)\n",
    "    return level_tier_prob[player.level][champion.tier] * prob_of_hit \n",
    "        \n",
    "    "
   ]
  },
  {
   "cell_type": "code",
   "execution_count": 179,
   "id": "fd480965-a5de-4b11-84c5-0c9e4afca71b",
   "metadata": {},
   "outputs": [],
   "source": [
    "player = Player(50, 100, 3)"
   ]
  },
  {
   "cell_type": "code",
   "execution_count": 180,
   "id": "6d48552c-f145-4600-a2df-390f5000d6fc",
   "metadata": {},
   "outputs": [
    {
     "name": "stdout",
     "output_type": "stream",
     "text": [
      "Number of Rolls Avaliable: 24\n"
     ]
    },
    {
     "data": {
      "text/plain": [
       "0.7499934502476013"
      ]
     },
     "execution_count": 180,
     "metadata": {},
     "output_type": "execute_result"
    }
   ],
   "source": [
    "probability_hit_champion(player, champions_lst['aatrox'], champions_lst, 1)"
   ]
  },
  {
   "cell_type": "code",
   "execution_count": 123,
   "id": "9c4c0282-2a65-43fd-aeda-faa10c882b9f",
   "metadata": {},
   "outputs": [],
   "source": []
  },
  {
   "cell_type": "code",
   "execution_count": 127,
   "id": "f5315569-2b0e-472b-9945-48d643b3aa88",
   "metadata": {},
   "outputs": [
    {
     "data": {
      "text/plain": [
       "(array([1.3000e+01, 1.6500e+02, 1.6060e+03, 7.7550e+03, 2.0968e+04,\n",
       "        3.1514e+04, 2.5601e+04, 1.0418e+04, 1.8770e+03, 8.3000e+01]),\n",
       " array([110. , 111.9, 113.8, 115.7, 117.6, 119.5, 121.4, 123.3, 125.2,\n",
       "        127.1, 129. ]),\n",
       " <BarContainer object of 10 artists>)"
      ]
     },
     "execution_count": 127,
     "metadata": {},
     "output_type": "execute_result"
    },
    {
     "data": {
      "image/png": "[encoded data removed]",
      "text/plain": [
       "<Figure size 432x288 with 1 Axes>"
      ]
     },
     "metadata": {
      "needs_background": "light"
     },
     "output_type": "display_data"
    }
   ],
   "source": []
  },
  {
   "cell_type": "code",
   "execution_count": null,
   "id": "f793026c-45c7-42d6-949e-fdece4332409",
   "metadata": {},
   "outputs": [],
   "source": []
  }
 ],
 "metadata": {
  "kernelspec": {
   "display_name": "Python 3 (ipykernel)",
   "language": "python",
   "name": "python3"
  },
  "language_info": {
   "codemirror_mode": {
    "name": "ipython",
    "version": 3
   },
   "file_extension": ".py",
   "mimetype": "text/x-python",
   "name": "python",
   "nbconvert_exporter": "python",
   "pygments_lexer": "ipython3",
   "version": "3.9.12"
  }
 },
 "nbformat": 4,
 "nbformat_minor": 5
}
